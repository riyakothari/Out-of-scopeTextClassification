{
 "cells": [
  {
   "cell_type": "code",
   "execution_count": 29,
   "metadata": {},
   "outputs": [],
   "source": [
    "import pandas as pd\n",
    "import numpy as np\n",
    "import json\n",
    "import random\n",
    "from sklearn import preprocessing\n",
    "from sklearn.feature_extraction.text import CountVectorizer\n",
    "from sklearn.svm import SVC\n",
    "from sklearn.naive_bayes import MultinomialNB\n",
    "from sklearn.tree import DecisionTreeClassifier\n",
    "from sklearn.metrics import classification_report, confusion_matrix\n",
    "from sklearn.ensemble import RandomForestClassifier,AdaBoostClassifier\n",
    "from imblearn.ensemble import BalancedRandomForestClassifier,EasyEnsembleClassifier,RUSBoostClassifier\n",
    "from gensim.parsing.porter import PorterStemmer\n"
   ]
  },
  {
   "cell_type": "code",
   "execution_count": 30,
   "metadata": {},
   "outputs": [],
   "source": [
    "with open('data_full.json', 'r') as file:\n",
    "    all_data = json.load(file)\n",
    "#     print(len(dic))\n",
    "    \n",
    "oos_train_df = pd.DataFrame(all_data[\"oos_train\"])\n",
    "oos_val_df = pd.DataFrame(all_data[\"oos_val\"])\n",
    "oos_test_df = pd.DataFrame(all_data[\"oos_test\"])\n",
    "\n",
    "ins_train_df = pd.DataFrame(all_data[\"train\"])\n",
    "ins_val_df = pd.DataFrame(all_data[\"val\"])\n",
    "ins_test_df = pd.DataFrame(all_data[\"test\"])\n",
    "# ins_train_df.describe()"
   ]
  },
  {
   "cell_type": "code",
   "execution_count": 31,
   "metadata": {},
   "outputs": [],
   "source": [
    "seed = 2\n",
    "random.seed(a=seed)\n",
    "arr = random.sample([i for i in range(150)], k=20)\n",
    "names = pd.unique(ins_train_df[1])\n",
    "picked = [names[i] for i in arr]\n",
    "# print(names)\n",
    "in_train = ins_train_df.loc[ins_train_df[1].isin(picked)]\n",
    "in_train.describe()\n",
    "\n",
    "in_test = ins_test_df.loc[ins_test_df[1].isin(picked)]\n",
    "in_val = ins_val_df.loc[ins_val_df[1].isin(picked)]"
   ]
  },
  {
   "cell_type": "code",
   "execution_count": 32,
   "metadata": {},
   "outputs": [],
   "source": [
    "train = pd.concat([in_train, oos_train_df])\n",
    "test = pd.concat([in_test, oos_test_df])\n",
    "val = pd.concat([in_val, oos_val_df])"
   ]
  },
  {
   "cell_type": "code",
   "execution_count": 33,
   "metadata": {},
   "outputs": [],
   "source": [
    "from gensim.utils import simple_preprocess\n",
    "train['token'] = [simple_preprocess(line, deacc=True) for line in train[0]] \n",
    "test['token'] = [simple_preprocess(line, deacc=True) for line in test[0]] \n",
    "val['token'] = [simple_preprocess(line, deacc=True) for line in val[0]] "
   ]
  },
  {
   "cell_type": "code",
   "execution_count": 34,
   "metadata": {},
   "outputs": [],
   "source": [
    "in_train.head(10)\n",
    "input_features, y_train = train['token'], train[1]\n",
    "X_val, y_val = val['token'], val[1]\n",
    "X_test, y_test = test['token'], test[1]"
   ]
  },
  {
   "cell_type": "code",
   "execution_count": 35,
   "metadata": {},
   "outputs": [],
   "source": [
    "porter_stemmer = PorterStemmer()\n",
    "new_input = pd.DataFrame(input_features).reset_index(drop=True)\n",
    "a = [[porter_stemmer.stem(word) for word in str(text).split(\" \")] for text in new_input['token']]\n",
    "# blah\n",
    "\n",
    "new_test = pd.DataFrame(X_test).reset_index(drop=True)\n",
    "b = [[porter_stemmer.stem(word) for word in str(text).split(\" \")] for text in new_test['token']]\n",
    "\n",
    "new_val = pd.DataFrame(X_val).reset_index(drop=True)\n",
    "c = [[porter_stemmer.stem(word) for word in str(text).split(\" \")] for text in new_val['token']]\n",
    "# str(new_input[0][0]).split(\" \")\n",
    "# porter_stemmer.stem(\"alerts\")"
   ]
  },
  {
   "cell_type": "code",
   "execution_count": 36,
   "metadata": {},
   "outputs": [],
   "source": [
    "train_features = [' '.join(first) for first in a]\n",
    "# input_features[0]\n",
    "\n",
    "test_features = [' '.join(first) for first in b]\n",
    "\n",
    "val_features = [' '.join(first) for first in c]"
   ]
  },
  {
   "cell_type": "code",
   "execution_count": 37,
   "metadata": {},
   "outputs": [],
   "source": [
    "# vectorizer = CountVectorizer(analyzer=lambda x:x)\n",
    "vectorizer = CountVectorizer(min_df=1, ngram_range=(1,3))\n",
    "# X_train\n",
    "X_train = vectorizer.fit_transform(train_features)"
   ]
  },
  {
   "cell_type": "code",
   "execution_count": 38,
   "metadata": {},
   "outputs": [],
   "source": [
    "X_val = vectorizer.transform(val_features)\n",
    "X_test = vectorizer.transform(test_features)"
   ]
  },
  {
   "cell_type": "code",
   "execution_count": 39,
   "metadata": {},
   "outputs": [],
   "source": [
    "\n",
    "le = preprocessing.LabelEncoder()\n",
    "\n",
    "le.fit(y_train)\n",
    "encoded_y = le.transform(y_train)\n",
    "# np.unique(encoded_y)"
   ]
  },
  {
   "cell_type": "code",
   "execution_count": 40,
   "metadata": {},
   "outputs": [],
   "source": [
    "y_true_val = le.transform(y_val)\n",
    "y_true_test = le.transform(y_test)"
   ]
  },
  {
   "cell_type": "code",
   "execution_count": 41,
   "metadata": {},
   "outputs": [],
   "source": [
    "svc_l = SVC(kernel='linear')\n",
    "#Rbf kernel\n",
    "svc_r = SVC(kernel='rbf')\n",
    "##Multinomial Naive Bayes\n",
    "mnb = MultinomialNB()\n",
    "###Random Forest\n",
    "rfc = RandomForestClassifier()"
   ]
  },
  {
   "cell_type": "code",
   "execution_count": 42,
   "metadata": {},
   "outputs": [
    {
     "name": "stdout",
     "output_type": "stream",
     "text": [
      "SVM - Linear\n",
      "              precision    recall  f1-score   support\n",
      "\n",
      "           1     0.4902    0.8333    0.6173        30\n",
      "           0     0.8824    1.0000    0.9375        30\n",
      "\n",
      "   micro avg     0.6471    0.9167    0.7586        60\n",
      "   macro avg     0.6863    0.9167    0.7774        60\n",
      "weighted avg     0.6863    0.9167    0.7774        60\n",
      "\n",
      "SVM - RBF kernel\n",
      "              precision    recall  f1-score   support\n",
      "\n",
      "           1     0.5227    0.7667    0.6216        30\n",
      "           0     0.8529    0.9667    0.9062        30\n",
      "\n",
      "   micro avg     0.6667    0.8667    0.7536        60\n",
      "   macro avg     0.6878    0.8667    0.7639        60\n",
      "weighted avg     0.6878    0.8667    0.7639        60\n",
      "\n",
      "Multinomial Naive Bayes\n",
      "              precision    recall  f1-score   support\n",
      "\n",
      "           1     0.2727    0.8000    0.4068        30\n",
      "           0     0.2857    1.0000    0.4444        30\n",
      "\n",
      "   micro avg     0.2798    0.9000    0.4269        60\n",
      "   macro avg     0.2792    0.9000    0.4256        60\n",
      "weighted avg     0.2792    0.9000    0.4256        60\n",
      "\n",
      "Random Forest Classifier\n",
      "              precision    recall  f1-score   support\n",
      "\n",
      "           1     0.3824    0.8667    0.5306        30\n",
      "           0     0.8108    1.0000    0.8955        30\n",
      "\n",
      "   micro avg     0.5333    0.9333    0.6788        60\n",
      "   macro avg     0.5966    0.9333    0.7131        60\n",
      "weighted avg     0.5966    0.9333    0.7131        60\n",
      "\n"
     ]
    }
   ],
   "source": [
    "models = [(svc_l, \"SVM - Linear\"), (svc_r, \"SVM - RBF kernel\"), (mnb, \"Multinomial Naive Bayes\"), (rfc, \"Random Forest Classifier\")]\n",
    "# print(\"\\t Recall\\t Precision\")\n",
    "for model, name in models:\n",
    "    model.fit(X_train, encoded_y)\n",
    "    y_pred = model.predict(X_val)\n",
    "    y_test = model.predict(X_test)\n",
    "    print(name)\n",
    "    print(classification_report(y_true_test, y_test, labels=[1,0], digits=4))\n",
    "#     print(recall_test_score, prec_test_score)"
   ]
  },
  {
   "cell_type": "code",
   "execution_count": null,
   "metadata": {},
   "outputs": [],
   "source": []
  }
 ],
 "metadata": {
  "kernelspec": {
   "display_name": "Python 3",
   "language": "python",
   "name": "python3"
  },
  "language_info": {
   "codemirror_mode": {
    "name": "ipython",
    "version": 3
   },
   "file_extension": ".py",
   "mimetype": "text/x-python",
   "name": "python",
   "nbconvert_exporter": "python",
   "pygments_lexer": "ipython3",
   "version": "3.7.3"
  }
 },
 "nbformat": 4,
 "nbformat_minor": 2
}
