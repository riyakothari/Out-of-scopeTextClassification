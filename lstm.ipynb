{
  "nbformat": 4,
  "nbformat_minor": 0,
  "metadata": {
    "colab": {
      "name": "LoyalAI.ipynb",
      "provenance": []
    },
    "kernelspec": {
      "name": "python3",
      "display_name": "Python 3"
    }
  },
  "cells": [
    {
      "cell_type": "code",
      "metadata": {
        "id": "y_JoGjWt3G7F"
      },
      "source": [
        "import matplotlib.pyplot as plt\r\n",
        "import pandas as pd\r\n",
        "import torch\r\n",
        "from torchtext.data import Field, TabularDataset, BucketIterator\r\n",
        "import torch.nn as nn\r\n",
        "from torch.nn.utils.rnn import pack_padded_sequence, pad_packed_sequence\r\n",
        "import torch.optim as optim\r\n",
        "from sklearn.metrics import accuracy_score, classification_report, confusion_matrix\r\n",
        "import seaborn as sns"
      ],
      "execution_count": null,
      "outputs": []
    },
    {
      "cell_type": "code",
      "metadata": {
        "id": "HCnIN922xhC5"
      },
      "source": [
        "import numpy as np\r\n",
        "import json\r\n",
        "import random\r\n",
        "from sklearn import preprocessing\r\n",
        "from imblearn.under_sampling import RandomUnderSampler\r\n",
        "from gensim.parsing.porter import PorterStemmer"
      ],
      "execution_count": null,
      "outputs": []
    },
    {
      "cell_type": "code",
      "metadata": {
        "colab": {
          "base_uri": "https://localhost:8080/"
        },
        "id": "YXkQbWbiyXTA",
        "outputId": "f8c9ac06-3313-4135-d333-357cad997674"
      },
      "source": [
        "from google.colab import drive\r\n",
        "drive.mount('/gdrive')\r\n",
        "%cd /gdrive/My\\ Drive/{'.//'}\r\n",
        "\r\n",
        "%cd LoyalAI\r\n",
        "%ls"
      ],
      "execution_count": null,
      "outputs": [
        {
          "output_type": "stream",
          "text": [
            "Drive already mounted at /gdrive; to attempt to forcibly remount, call drive.mount(\"/gdrive\", force_remount=True).\n",
            "/gdrive/My Drive\n",
            "/gdrive/My Drive/LoyalAI\n",
            "data_full.json  metrics.pt  test.csv   valid.csv\n",
            "LoyalAI.ipynb   model.pt    train.csv\n"
          ],
          "name": "stdout"
        }
      ]
    },
    {
      "cell_type": "code",
      "metadata": {
        "id": "1NEgwFWbyBw6"
      },
      "source": [
        "with open('data_full.json', 'r') as file:\r\n",
        "    all_data = json.load(file)\r\n",
        "#     print(len(dic))\r\n",
        "    \r\n",
        "oos_train_df = pd.DataFrame(all_data[\"oos_train\"])\r\n",
        "oos_val_df = pd.DataFrame(all_data[\"oos_val\"])\r\n",
        "oos_test_df = pd.DataFrame(all_data[\"oos_test\"])\r\n",
        "\r\n",
        "ins_train_df = pd.DataFrame(all_data[\"train\"])\r\n",
        "ins_val_df = pd.DataFrame(all_data[\"val\"])\r\n",
        "ins_test_df = pd.DataFrame(all_data[\"test\"])\r\n",
        "# ins_train_df.describe()"
      ],
      "execution_count": null,
      "outputs": []
    },
    {
      "cell_type": "code",
      "metadata": {
        "id": "KT5pLmQEyGEX"
      },
      "source": [
        "seed = 2\r\n",
        "random.seed(a=seed)\r\n",
        "arr = random.sample([i for i in range(150)], k=20)\r\n",
        "names = pd.unique(ins_train_df[1])\r\n",
        "picked = [names[i] for i in arr]\r\n",
        "# print(names)\r\n",
        "in_train = ins_train_df.loc[ins_train_df[1].isin(picked)]\r\n",
        "in_train.describe()\r\n",
        "\r\n",
        "in_test = ins_test_df.loc[ins_test_df[1].isin(picked)]\r\n",
        "in_val = ins_val_df.loc[ins_val_df[1].isin(picked)]"
      ],
      "execution_count": null,
      "outputs": []
    },
    {
      "cell_type": "code",
      "metadata": {
        "id": "8bXCpdlrymUP"
      },
      "source": [
        "train = pd.concat([in_train, oos_train_df])\r\n",
        "test = pd.concat([in_test, oos_test_df])\r\n",
        "val = pd.concat([in_val, oos_val_df])"
      ],
      "execution_count": null,
      "outputs": []
    },
    {
      "cell_type": "code",
      "metadata": {
        "id": "JHw29n71yoKD"
      },
      "source": [
        "from gensim.utils import simple_preprocess\r\n",
        "train['token'] = [simple_preprocess(line, deacc=True) for line in train[0]] \r\n",
        "test['token'] = [simple_preprocess(line, deacc=True) for line in test[0]] \r\n",
        "val['token'] = [simple_preprocess(line, deacc=True) for line in val[0]] "
      ],
      "execution_count": null,
      "outputs": []
    },
    {
      "cell_type": "code",
      "metadata": {
        "id": "EVB7KFX1yqMb"
      },
      "source": [
        "in_train.head(10)\r\n",
        "input_features, y_train = train['token'], train[1]\r\n",
        "X_val, y_val = val['token'], val[1]\r\n",
        "X_test, y_test = test['token'], test[1]\r\n"
      ],
      "execution_count": null,
      "outputs": []
    },
    {
      "cell_type": "code",
      "metadata": {
        "id": "9tnwoOeeyskI"
      },
      "source": [
        "porter_stemmer = PorterStemmer()\r\n",
        "new_input2 = pd.DataFrame(input_features).reset_index(drop=True)\r\n",
        "new_input2['stemmed_tokens'] = [[porter_stemmer.stem(word) for word in text] for text in new_input2['token']]\r\n",
        "# blah\r\n",
        "\r\n",
        "new_test2 = pd.DataFrame(X_test).reset_index(drop=True)\r\n",
        "new_test2['stemmed_tokens'] = [[porter_stemmer.stem(word) for word in text] for text in new_test2['token']]\r\n",
        "\r\n",
        "new_val2 = pd.DataFrame(X_val).reset_index(drop=True)\r\n",
        "new_val2['stemmed_tokens'] = [[porter_stemmer.stem(word) for word in text] for text in new_val2['token']]"
      ],
      "execution_count": null,
      "outputs": []
    },
    {
      "cell_type": "code",
      "metadata": {
        "id": "FYmTxW_Lyu4-"
      },
      "source": [
        "train_features = [' '.join(first) for first in new_input2['stemmed_tokens']]\r\n",
        "# input_features[0]\r\n",
        "\r\n",
        "test_features = [' '.join(first) for first in new_test2['stemmed_tokens']]\r\n",
        "\r\n",
        "val_features = [' '.join(first) for first in new_val2['stemmed_tokens']]"
      ],
      "execution_count": null,
      "outputs": []
    },
    {
      "cell_type": "code",
      "metadata": {
        "colab": {
          "base_uri": "https://localhost:8080/"
        },
        "id": "Lir2_plfIPoO",
        "outputId": "b0eb1508-3529-409a-b021-dd0f901bf45b"
      },
      "source": [
        "from imblearn.under_sampling import RandomUnderSampler\r\n",
        "from imblearn.over_sampling import RandomOverSampler\r\n",
        "oversample = RandomOverSampler(sampling_strategy='minority')\r\n",
        "undersample = RandomUnderSampler(sampling_strategy='majority')\r\n",
        "# fit and apply the transform\r\n",
        "X = pd.DataFrame(train_features)\r\n",
        "# X = train_features\r\n",
        "y = np.where(y_train!='oos', 0, 1)\r\n",
        "X_under, y_under = undersample.fit_resample(X, y)\r\n",
        "X_over, y_over = oversample.fit_resample(X, y) #[0], train[1])\r\n",
        "# X_over = pd.DataFrame(X_over)\r\n",
        "# y_train"
      ],
      "execution_count": null,
      "outputs": [
        {
          "output_type": "stream",
          "text": [
            "/usr/local/lib/python3.6/dist-packages/sklearn/utils/deprecation.py:87: FutureWarning: Function safe_indexing is deprecated; safe_indexing is deprecated in version 0.22 and will be removed in version 0.24.\n",
            "  warnings.warn(msg, category=FutureWarning)\n",
            "/usr/local/lib/python3.6/dist-packages/sklearn/utils/deprecation.py:87: FutureWarning: Function safe_indexing is deprecated; safe_indexing is deprecated in version 0.22 and will be removed in version 0.24.\n",
            "  warnings.warn(msg, category=FutureWarning)\n"
          ],
          "name": "stderr"
        }
      ]
    },
    {
      "cell_type": "code",
      "metadata": {
        "id": "zibte0XSJCac"
      },
      "source": [
        "# X_over = pd.DataFrame(X_over)\r\n",
        "# y_over.shape, X_under.shape, X.shape, new_something.shape\r\n",
        "# X_over.head()"
      ],
      "execution_count": null,
      "outputs": []
    },
    {
      "cell_type": "code",
      "metadata": {
        "id": "MlROLZczyytj"
      },
      "source": [
        "label_field = Field(sequential=False, use_vocab=False, batch_first=True, dtype=torch.float)\r\n",
        "text_field = Field(tokenize='spacy', lower=True, include_lengths=True, batch_first=True)\r\n",
        "fields = [('text', text_field), ('label', label_field)]\r\n"
      ],
      "execution_count": null,
      "outputs": []
    },
    {
      "cell_type": "code",
      "metadata": {
        "id": "hEKtc5b-_nN_"
      },
      "source": [
        "df_tr = pd.DataFrame(train_features, columns=['text']) #train_features\r\n",
        "df_tr['label'] = y #np.where(y_over!='oos', 0, 1)\r\n",
        "\r\n",
        "df_tt = pd.DataFrame(test_features, columns=['text'])\r\n",
        "df_tt['label'] = np.where(y_test!='oos', 0, 1)\r\n",
        "\r\n",
        "df_v = pd.DataFrame(val_features, columns=['text'])\r\n",
        "df_v['label'] = np.where(y_val!='oos', 0, 1)"
      ],
      "execution_count": null,
      "outputs": []
    },
    {
      "cell_type": "code",
      "metadata": {
        "id": "5WxPshTFMHBG",
        "colab": {
          "base_uri": "https://localhost:8080/",
          "height": 195
        },
        "outputId": "63eea1c8-796d-48c9-9aa7-94ccc296087f"
      },
      "source": [
        "df_tr.head()"
      ],
      "execution_count": null,
      "outputs": [
        {
          "output_type": "execute_result",
          "data": {
            "text/html": [
              "<div>\n",
              "<style scoped>\n",
              "    .dataframe tbody tr th:only-of-type {\n",
              "        vertical-align: middle;\n",
              "    }\n",
              "\n",
              "    .dataframe tbody tr th {\n",
              "        vertical-align: top;\n",
              "    }\n",
              "\n",
              "    .dataframe thead th {\n",
              "        text-align: right;\n",
              "    }\n",
              "</style>\n",
              "<table border=\"1\" class=\"dataframe\">\n",
              "  <thead>\n",
              "    <tr style=\"text-align: right;\">\n",
              "      <th></th>\n",
              "      <th>text</th>\n",
              "      <th>label</th>\n",
              "    </tr>\n",
              "  </thead>\n",
              "  <tbody>\n",
              "    <tr>\n",
              "      <th>0</th>\n",
              "      <td>doe ireland have ani travel alert should be aw...</td>\n",
              "      <td>0</td>\n",
              "    </tr>\n",
              "    <tr>\n",
              "      <th>1</th>\n",
              "      <td>doe north korea have ani travel alert should b...</td>\n",
              "      <td>0</td>\n",
              "    </tr>\n",
              "    <tr>\n",
              "      <th>2</th>\n",
              "      <td>ar there ani travel alert for russia</td>\n",
              "      <td>0</td>\n",
              "    </tr>\n",
              "    <tr>\n",
              "      <th>3</th>\n",
              "      <td>doe spain have ani travel alert should be awar of</td>\n",
              "      <td>0</td>\n",
              "    </tr>\n",
              "    <tr>\n",
              "      <th>4</th>\n",
              "      <td>ar there ani travel alert for north korea</td>\n",
              "      <td>0</td>\n",
              "    </tr>\n",
              "  </tbody>\n",
              "</table>\n",
              "</div>"
            ],
            "text/plain": [
              "                                                text  label\n",
              "0  doe ireland have ani travel alert should be aw...      0\n",
              "1  doe north korea have ani travel alert should b...      0\n",
              "2               ar there ani travel alert for russia      0\n",
              "3  doe spain have ani travel alert should be awar of      0\n",
              "4          ar there ani travel alert for north korea      0"
            ]
          },
          "metadata": {
            "tags": []
          },
          "execution_count": 97
        }
      ]
    },
    {
      "cell_type": "code",
      "metadata": {
        "id": "QR_C4fv6ANDi"
      },
      "source": [
        "df_tr.to_csv('./train.csv', index=False)\r\n",
        "df_v.to_csv('./valid.csv', index=False)\r\n",
        "df_tt.to_csv('./test.csv', index=False)"
      ],
      "execution_count": null,
      "outputs": []
    },
    {
      "cell_type": "code",
      "metadata": {
        "id": "afvVCmg19a69"
      },
      "source": [
        "device='cpu'\r\n",
        "train, valid, test = TabularDataset.splits(path='./', train='train.csv', validation='valid.csv', test='test.csv',\r\n",
        "                                           format='CSV', fields=fields, skip_header=True)\r\n",
        "\r\n",
        "train_iter = BucketIterator(train, batch_size=32, sort_key=lambda x: len(x.text),\r\n",
        "                            device=device, sort=True, sort_within_batch=True)\r\n",
        "valid_iter = BucketIterator(valid, batch_size=32, sort_key=lambda x: len(x.text),\r\n",
        "                            device=device, sort=True, sort_within_batch=True)\r\n",
        "test_iter = BucketIterator(test, batch_size=32, sort_key=lambda x: len(x.text),\r\n",
        "                            device=device, sort=True, sort_within_batch=True)\r\n",
        "\r\n",
        "# Vocabulary\r\n",
        "\r\n",
        "text_field.build_vocab(train, min_freq=3)"
      ],
      "execution_count": null,
      "outputs": []
    },
    {
      "cell_type": "code",
      "metadata": {
        "collapsed": true,
        "id": "_nNW3SBGEgHC"
      },
      "source": [
        "# for a in train_iter:\r\n",
        "#   print(a)"
      ],
      "execution_count": null,
      "outputs": []
    },
    {
      "cell_type": "code",
      "metadata": {
        "id": "U40TJFqKy08Y"
      },
      "source": [
        "# new_input2"
      ],
      "execution_count": null,
      "outputs": []
    },
    {
      "cell_type": "code",
      "metadata": {
        "id": "_MBdBt8gy97c"
      },
      "source": [
        "#@title\n",
        "class LSTM(nn.Module):\n",
        "\n",
        "    def __init__(self, dimension=128):\n",
        "        super(LSTM, self).__init__()\n",
        "\n",
        "        self.embedding = nn.Embedding(len(text_field.vocab), 300)\n",
        "        self.dimension = dimension\n",
        "        self.lstm = nn.LSTM(input_size=300,\n",
        "                            hidden_size=dimension,\n",
        "                            num_layers=1,\n",
        "                            batch_first=True,\n",
        "                            bidirectional=True)\n",
        "        self.drop = nn.Dropout(p=0.5)\n",
        "\n",
        "        self.fc = nn.Linear(2*dimension, 1)\n",
        "\n",
        "    def forward(self, text, text_len):\n",
        "\n",
        "        text_emb = self.embedding(text)\n",
        "\n",
        "        packed_input = pack_padded_sequence(text_emb, text_len, batch_first=True, enforce_sorted=False)\n",
        "        packed_output, _ = self.lstm(packed_input)\n",
        "        output, _ = pad_packed_sequence(packed_output, batch_first=True)\n",
        "\n",
        "        out_forward = output[range(len(output)), text_len - 1, :self.dimension]\n",
        "        out_reverse = output[:, 0, self.dimension:]\n",
        "        out_reduced = torch.cat((out_forward, out_reverse), 1)\n",
        "        text_fea = self.drop(out_reduced)\n",
        "\n",
        "        text_fea = self.fc(text_fea)\n",
        "        text_fea = torch.squeeze(text_fea, 1)\n",
        "        text_out = torch.sigmoid(text_fea)\n",
        "\n",
        "        return text_out"
      ],
      "execution_count": null,
      "outputs": []
    },
    {
      "cell_type": "code",
      "metadata": {
        "id": "wFGcwDlDClUf",
        "cellView": "form"
      },
      "source": [
        "#@title\n",
        "# Save and Load Functions\n",
        "\n",
        "def save_checkpoint(save_path, model, optimizer, valid_loss):\n",
        "\n",
        "    if save_path == None:\n",
        "        return\n",
        "    \n",
        "    state_dict = {'model_state_dict': model.state_dict(),\n",
        "                  'optimizer_state_dict': optimizer.state_dict(),\n",
        "                  'valid_loss': valid_loss}\n",
        "    \n",
        "    torch.save(state_dict, save_path)\n",
        "    print(f'Model saved to ==> {save_path}')\n",
        "\n",
        "\n",
        "def load_checkpoint(load_path, model, optimizer):\n",
        "\n",
        "    if load_path==None:\n",
        "        return\n",
        "    \n",
        "    state_dict = torch.load(load_path, map_location=device)\n",
        "    print(f'Model loaded from <== {load_path}')\n",
        "    \n",
        "    model.load_state_dict(state_dict['model_state_dict'])\n",
        "    optimizer.load_state_dict(state_dict['optimizer_state_dict'])\n",
        "    \n",
        "    return state_dict['valid_loss']\n",
        "\n",
        "\n",
        "def save_metrics(save_path, train_loss_list, valid_loss_list, global_steps_list):\n",
        "\n",
        "    if save_path == None:\n",
        "        return\n",
        "    \n",
        "    state_dict = {'train_loss_list': train_loss_list,\n",
        "                  'valid_loss_list': valid_loss_list,\n",
        "                  'global_steps_list': global_steps_list}\n",
        "    \n",
        "    torch.save(state_dict, save_path)\n",
        "    print(f'Model saved to ==> {save_path}')\n",
        "\n",
        "\n",
        "def load_metrics(load_path):\n",
        "\n",
        "    if load_path==None:\n",
        "        return\n",
        "    \n",
        "    state_dict = torch.load(load_path, map_location=device)\n",
        "    print(f'Model loaded from <== {load_path}')\n",
        "    \n",
        "    return state_dict['train_loss_list'], state_dict['valid_loss_list'], state_dict['global_steps_list']\n"
      ],
      "execution_count": null,
      "outputs": []
    },
    {
      "cell_type": "code",
      "metadata": {
        "colab": {
          "base_uri": "https://localhost:8080/"
        },
        "id": "NPNIr7xZCrGY",
        "outputId": "54a5c2fb-4d69-48d1-e5bc-86cd8bee4bcc"
      },
      "source": [
        "def train(model,\r\n",
        "          optimizer,\r\n",
        "          criterion = nn.BCELoss(),\r\n",
        "          train_loader = train_iter,\r\n",
        "          valid_loader = valid_iter,\r\n",
        "          num_epochs = 5,\r\n",
        "          eval_every = len(train_iter) // 2,\r\n",
        "          file_path = \"./\",\r\n",
        "          best_valid_loss = float(\"Inf\")):\r\n",
        "    \r\n",
        "    # initialize running values\r\n",
        "    running_loss = 0.0\r\n",
        "    valid_running_loss = 0.0\r\n",
        "    global_step = 0\r\n",
        "    train_loss_list = []\r\n",
        "    valid_loss_list = []\r\n",
        "    global_steps_list = []\r\n",
        "\r\n",
        "    # training loop\r\n",
        "    model.train()\r\n",
        "    for epoch in range(num_epochs):\r\n",
        "        for ((text, text_len), labels), _ in train_loader:           \r\n",
        "            labels = labels.to(device)\r\n",
        "            text = text.to(device)\r\n",
        "            text_len = text_len.to(device)\r\n",
        "            output = model(text, text_len)\r\n",
        "\r\n",
        "            loss = criterion(output, labels)\r\n",
        "            optimizer.zero_grad()\r\n",
        "            loss.backward()\r\n",
        "            optimizer.step()\r\n",
        "\r\n",
        "            # update running values\r\n",
        "            running_loss += loss.item()\r\n",
        "            global_step += 1\r\n",
        "\r\n",
        "            # evaluation step\r\n",
        "            if global_step % eval_every == 0:\r\n",
        "                model.eval()\r\n",
        "                with torch.no_grad():                    \r\n",
        "                  # validation loop\r\n",
        "                  for ((text, text_len), labels), _ in valid_loader:\r\n",
        "                      labels = labels.to(device)\r\n",
        "                      text = text.to(device)\r\n",
        "                      text_len = text_len.to(device)\r\n",
        "                      output = model(text, text_len)\r\n",
        "\r\n",
        "                      loss = criterion(output, labels)\r\n",
        "                      valid_running_loss += loss.item()\r\n",
        "\r\n",
        "                # evaluation\r\n",
        "                average_train_loss = running_loss / eval_every\r\n",
        "                average_valid_loss = valid_running_loss / len(valid_loader)\r\n",
        "                train_loss_list.append(average_train_loss)\r\n",
        "                valid_loss_list.append(average_valid_loss)\r\n",
        "                global_steps_list.append(global_step)\r\n",
        "\r\n",
        "                # resetting running values\r\n",
        "                running_loss = 0.0                \r\n",
        "                valid_running_loss = 0.0\r\n",
        "                model.train()\r\n",
        "\r\n",
        "                # print progress\r\n",
        "                print('Epoch [{}/{}], Step [{}/{}], Train Loss: {:.4f}, Valid Loss: {:.4f}'\r\n",
        "                      .format(epoch+1, num_epochs, global_step, num_epochs*len(train_loader),\r\n",
        "                              average_train_loss, average_valid_loss))\r\n",
        "                \r\n",
        "                # checkpoint\r\n",
        "                if best_valid_loss > average_valid_loss:\r\n",
        "                    best_valid_loss = average_valid_loss\r\n",
        "                    save_checkpoint(file_path + '/model.pt', model, optimizer, best_valid_loss)\r\n",
        "                    save_metrics(file_path + '/metrics.pt', train_loss_list, valid_loss_list, global_steps_list)\r\n",
        "    \r\n",
        "    save_metrics(file_path + '/metrics.pt', train_loss_list, valid_loss_list, global_steps_list)\r\n",
        "    print('Finished Training!')\r\n",
        "\r\n",
        "\r\n",
        "model = LSTM().to(device)\r\n",
        "optimizer = optim.Adam(model.parameters(), lr=0.001)\r\n",
        "\r\n",
        "train(model=model, optimizer=optimizer, num_epochs=20)"
      ],
      "execution_count": null,
      "outputs": [
        {
          "output_type": "stream",
          "text": [
            "Epoch [1/20], Step [33/1320], Train Loss: 0.3273, Valid Loss: 0.4001\n",
            "Model saved to ==> .//model.pt\n",
            "Model saved to ==> .//metrics.pt\n",
            "Epoch [1/20], Step [66/1320], Train Loss: 0.0735, Valid Loss: 0.2981\n",
            "Model saved to ==> .//model.pt\n",
            "Model saved to ==> .//metrics.pt\n",
            "Epoch [2/20], Step [99/1320], Train Loss: 0.0902, Valid Loss: 0.2427\n",
            "Model saved to ==> .//model.pt\n",
            "Model saved to ==> .//metrics.pt\n",
            "Epoch [2/20], Step [132/1320], Train Loss: 0.0355, Valid Loss: 0.2632\n",
            "Epoch [3/20], Step [165/1320], Train Loss: 0.0483, Valid Loss: 0.2370\n",
            "Model saved to ==> .//model.pt\n",
            "Model saved to ==> .//metrics.pt\n",
            "Epoch [3/20], Step [198/1320], Train Loss: 0.0171, Valid Loss: 0.2283\n",
            "Model saved to ==> .//model.pt\n",
            "Model saved to ==> .//metrics.pt\n",
            "Epoch [4/20], Step [231/1320], Train Loss: 0.0300, Valid Loss: 0.2563\n",
            "Epoch [4/20], Step [264/1320], Train Loss: 0.0055, Valid Loss: 0.2960\n",
            "Epoch [5/20], Step [297/1320], Train Loss: 0.0137, Valid Loss: 0.3147\n",
            "Epoch [5/20], Step [330/1320], Train Loss: 0.0084, Valid Loss: 0.2932\n",
            "Epoch [6/20], Step [363/1320], Train Loss: 0.0110, Valid Loss: 0.3451\n",
            "Epoch [6/20], Step [396/1320], Train Loss: 0.0016, Valid Loss: 0.3009\n",
            "Epoch [7/20], Step [429/1320], Train Loss: 0.0052, Valid Loss: 0.4451\n",
            "Epoch [7/20], Step [462/1320], Train Loss: 0.0005, Valid Loss: 0.3837\n",
            "Epoch [8/20], Step [495/1320], Train Loss: 0.0021, Valid Loss: 0.4282\n",
            "Epoch [8/20], Step [528/1320], Train Loss: 0.0002, Valid Loss: 0.4347\n",
            "Epoch [9/20], Step [561/1320], Train Loss: 0.0016, Valid Loss: 0.4706\n",
            "Epoch [9/20], Step [594/1320], Train Loss: 0.0002, Valid Loss: 0.4643\n",
            "Epoch [10/20], Step [627/1320], Train Loss: 0.0011, Valid Loss: 0.4842\n",
            "Epoch [10/20], Step [660/1320], Train Loss: 0.0001, Valid Loss: 0.4774\n",
            "Epoch [11/20], Step [693/1320], Train Loss: 0.0010, Valid Loss: 0.5048\n",
            "Epoch [11/20], Step [726/1320], Train Loss: 0.0001, Valid Loss: 0.5019\n",
            "Epoch [12/20], Step [759/1320], Train Loss: 0.0008, Valid Loss: 0.5133\n",
            "Epoch [12/20], Step [792/1320], Train Loss: 0.0001, Valid Loss: 0.5096\n",
            "Epoch [13/20], Step [825/1320], Train Loss: 0.0005, Valid Loss: 0.5303\n",
            "Epoch [13/20], Step [858/1320], Train Loss: 0.0001, Valid Loss: 0.5299\n",
            "Epoch [14/20], Step [891/1320], Train Loss: 0.0005, Valid Loss: 0.5457\n",
            "Epoch [14/20], Step [924/1320], Train Loss: 0.0001, Valid Loss: 0.5419\n",
            "Epoch [15/20], Step [957/1320], Train Loss: 0.0007, Valid Loss: 0.5597\n",
            "Epoch [15/20], Step [990/1320], Train Loss: 0.0001, Valid Loss: 0.5427\n",
            "Epoch [16/20], Step [1023/1320], Train Loss: 0.0004, Valid Loss: 0.5526\n",
            "Epoch [16/20], Step [1056/1320], Train Loss: 0.0000, Valid Loss: 0.5503\n",
            "Epoch [17/20], Step [1089/1320], Train Loss: 0.0003, Valid Loss: 0.5694\n",
            "Epoch [17/20], Step [1122/1320], Train Loss: 0.0000, Valid Loss: 0.5686\n",
            "Epoch [18/20], Step [1155/1320], Train Loss: 0.0002, Valid Loss: 0.5868\n",
            "Epoch [18/20], Step [1188/1320], Train Loss: 0.0000, Valid Loss: 0.5844\n",
            "Epoch [19/20], Step [1221/1320], Train Loss: 0.0003, Valid Loss: 0.5963\n",
            "Epoch [19/20], Step [1254/1320], Train Loss: 0.0000, Valid Loss: 0.5848\n",
            "Epoch [20/20], Step [1287/1320], Train Loss: 0.0002, Valid Loss: 0.5935\n",
            "Epoch [20/20], Step [1320/1320], Train Loss: 0.0000, Valid Loss: 0.5930\n",
            "Model saved to ==> .//metrics.pt\n",
            "Finished Training!\n"
          ],
          "name": "stdout"
        }
      ]
    },
    {
      "cell_type": "code",
      "metadata": {
        "colab": {
          "base_uri": "https://localhost:8080/"
        },
        "id": "ZMfxvHhSCzMz",
        "outputId": "528acc8a-f066-424f-bf9d-0659cb0eceb5"
      },
      "source": [
        "def evaluate(model, test_loader, version='title', threshold=0.5):\r\n",
        "    y_pred = []\r\n",
        "    y_true = []\r\n",
        "\r\n",
        "    model.eval()\r\n",
        "    with torch.no_grad():\r\n",
        "        for ((text, text_len), labels), _ in test_loader:           \r\n",
        "            labels = labels.to(device)\r\n",
        "            text = text.to(device)\r\n",
        "            text_len = text_len.to(device)\r\n",
        "            output = model(text, text_len)\r\n",
        "\r\n",
        "            output = (output > threshold).int()\r\n",
        "            y_pred.extend(output.tolist())\r\n",
        "            y_true.extend(labels.tolist())\r\n",
        "    \r\n",
        "    print('Classification Report:')\r\n",
        "    print(classification_report(y_true, y_pred, labels=[1,0], digits=4))\r\n",
        "    \r\n",
        "    cm = confusion_matrix(y_true, y_pred, labels=[1,0])\r\n",
        "    ax= plt.subplot()\r\n",
        "    sns.heatmap(cm, annot=True, ax = ax, cmap='Blues', fmt=\"d\")\r\n",
        "\r\n",
        "    ax.set_title('Confusion Matrix')\r\n",
        "\r\n",
        "    ax.set_xlabel('Predicted Labels')\r\n",
        "    ax.set_ylabel('True Labels')\r\n",
        "\r\n",
        "    ax.xaxis.set_ticklabels(['in-scope', 'oos'])\r\n",
        "    ax.yaxis.set_ticklabels(['in-scope', 'oos'])\r\n",
        "    \r\n",
        "    \r\n",
        "best_model = LSTM().to(device)\r\n",
        "optimizer = optim.Adam(best_model.parameters(), lr=0.001)\r\n",
        "\r\n",
        "load_checkpoint('./model.pt', best_model, optimizer)\r\n",
        "evaluate(best_model, test_iter)"
      ],
      "execution_count": null,
      "outputs": [
        {
          "output_type": "stream",
          "text": [
            "Model loaded from <== ./model.pt\n",
            "Classification Report:\n",
            "              precision    recall  f1-score   support\n",
            "\n",
            "           1     0.9736    0.7020    0.8158      1000\n",
            "           0     0.6610    0.9683    0.7857       600\n",
            "\n",
            "    accuracy                         0.8019      1600\n",
            "   macro avg     0.8173    0.8352    0.8007      1600\n",
            "weighted avg     0.8564    0.8019    0.8045      1600\n",
            "\n"
          ],
          "name": "stdout"
        },
        {
          "output_type": "display_data",
          "data": {
            "image/png": "[encoded data removed]",
            "text/plain": [
              "<Figure size 432x288 with 2 Axes>"
            ]
          },
          "metadata": {
            "tags": [],
            "needs_background": "light"
          }
        }
      ]
    },
    {
      "cell_type": "code",
      "metadata": {
        "id": "31AHrc0gGDvA"
      },
      "source": [
        ""
      ],
      "execution_count": null,
      "outputs": []
    },
    {
      "cell_type": "code",
      "metadata": {
        "id": "gRJrVFUMFzOn"
      },
      "source": [
        ""
      ],
      "execution_count": null,
      "outputs": []
    },
    {
      "cell_type": "code",
      "metadata": {
        "id": "pPU8lMPHOQKq"
      },
      "source": [
        ""
      ],
      "execution_count": null,
      "outputs": []
    }
  ]
}