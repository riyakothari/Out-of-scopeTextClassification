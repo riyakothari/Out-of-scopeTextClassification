{
 "cells": [
  {
   "cell_type": "code",
   "execution_count": 25,
   "metadata": {},
   "outputs": [],
   "source": [
    "import pandas as pd\n",
    "import numpy as np\n",
    "import json\n",
    "import random\n",
    "from sklearn import preprocessing\n",
    "from sklearn.feature_extraction.text import CountVectorizer\n",
    "from imblearn.under_sampling import RandomUnderSampler\n",
    "from sklearn.linear_model import LogisticRegression\n",
    "from sklearn.metrics import classification_report, confusion_matrix\n",
    "from sklearn.ensemble import RandomForestClassifier,AdaBoostClassifier\n",
    "from imblearn.ensemble import BalancedRandomForestClassifier,EasyEnsembleClassifier,RUSBoostClassifier\n",
    "from gensim.parsing.porter import PorterStemmer"
   ]
  },
  {
   "cell_type": "code",
   "execution_count": 26,
   "metadata": {},
   "outputs": [],
   "source": [
    "with open('data_full.json', 'r') as file:\n",
    "    all_data = json.load(file)\n",
    "#     print(len(dic))\n",
    "    \n",
    "oos_train_df = pd.DataFrame(all_data[\"oos_train\"])\n",
    "oos_val_df = pd.DataFrame(all_data[\"oos_val\"])\n",
    "oos_test_df = pd.DataFrame(all_data[\"oos_test\"])\n",
    "\n",
    "ins_train_df = pd.DataFrame(all_data[\"train\"])\n",
    "ins_val_df = pd.DataFrame(all_data[\"val\"])\n",
    "ins_test_df = pd.DataFrame(all_data[\"test\"])\n",
    "# ins_train_df.describe()"
   ]
  },
  {
   "cell_type": "code",
   "execution_count": 27,
   "metadata": {},
   "outputs": [],
   "source": [
    "seed = 2\n",
    "random.seed(a=seed)\n",
    "arr = random.sample([i for i in range(150)], k=20)\n",
    "names = pd.unique(ins_train_df[1])\n",
    "picked = [names[i] for i in arr]\n",
    "# print(names)\n",
    "in_train = ins_train_df.loc[ins_train_df[1].isin(picked)]\n",
    "in_train.describe()\n",
    "\n",
    "in_test = ins_test_df.loc[ins_test_df[1].isin(picked)]\n",
    "in_val = ins_val_df.loc[ins_val_df[1].isin(picked)]"
   ]
  },
  {
   "cell_type": "code",
   "execution_count": 28,
   "metadata": {},
   "outputs": [],
   "source": [
    "train = pd.concat([in_train, oos_train_df])\n",
    "test = pd.concat([in_test, oos_test_df])\n",
    "val = pd.concat([in_val, oos_val_df])"
   ]
  },
  {
   "cell_type": "code",
   "execution_count": 29,
   "metadata": {},
   "outputs": [],
   "source": [
    "from gensim.utils import simple_preprocess\n",
    "train['token'] = [simple_preprocess(line, deacc=True) for line in train[0]] \n",
    "test['token'] = [simple_preprocess(line, deacc=True) for line in test[0]] \n",
    "val['token'] = [simple_preprocess(line, deacc=True) for line in val[0]] "
   ]
  },
  {
   "cell_type": "code",
   "execution_count": 30,
   "metadata": {},
   "outputs": [],
   "source": [
    "in_train.head(10)\n",
    "input_features, y_train = train['token'], train[1]\n",
    "X_val, y_val = val['token'], val[1]\n",
    "X_test, y_test = test['token'], test[1]"
   ]
  },
  {
   "cell_type": "code",
   "execution_count": 31,
   "metadata": {},
   "outputs": [],
   "source": [
    "porter_stemmer = PorterStemmer()\n",
    "new_input = pd.DataFrame(input_features).reset_index(drop=True)\n",
    "a = [[porter_stemmer.stem(word) for word in str(text).split(\" \")] for text in new_input['token']]\n",
    "# blah\n",
    "\n",
    "new_test = pd.DataFrame(X_test).reset_index(drop=True)\n",
    "b = [[porter_stemmer.stem(word) for word in str(text).split(\" \")] for text in new_test['token']]\n",
    "\n",
    "new_val = pd.DataFrame(X_val).reset_index(drop=True)\n",
    "c = [[porter_stemmer.stem(word) for word in str(text).split(\" \")] for text in new_val['token']]\n",
    "# str(new_input[0][0]).split(\" \")\n",
    "# porter_stemmer.stem(\"alerts\")"
   ]
  },
  {
   "cell_type": "code",
   "execution_count": 32,
   "metadata": {},
   "outputs": [],
   "source": [
    "train_features = [' '.join(first) for first in a]\n",
    "# input_features[0]\n",
    "\n",
    "test_features = [' '.join(first) for first in b]\n",
    "\n",
    "val_features = [' '.join(first) for first in c]"
   ]
  },
  {
   "cell_type": "code",
   "execution_count": 33,
   "metadata": {},
   "outputs": [],
   "source": [
    "# vectorizer = CountVectorizer(analyzer=lambda x:x)\n",
    "vectorizer = CountVectorizer(min_df=1, ngram_range=(1,3))\n",
    "# X_train\n",
    "X_train = vectorizer.fit_transform(train_features)"
   ]
  },
  {
   "cell_type": "code",
   "execution_count": 34,
   "metadata": {},
   "outputs": [],
   "source": [
    "X_val = vectorizer.transform(val_features)\n",
    "X_test = vectorizer.transform(test_features)"
   ]
  },
  {
   "cell_type": "code",
   "execution_count": 35,
   "metadata": {},
   "outputs": [],
   "source": [
    "encoded_y = np.where(y_train!='oos', 0, 1)\n",
    "y_true_val = np.where(y_val!='oos', 0, 1)\n",
    "y_true_test = np.where(y_test!='oos', 0, 1)"
   ]
  },
  {
   "cell_type": "code",
   "execution_count": 36,
   "metadata": {},
   "outputs": [
    {
     "name": "stdout",
     "output_type": "stream",
     "text": [
      "Balanced Random Forest\n",
      "              precision    recall  f1-score   support\n",
      "\n",
      "           1     0.7739    0.9210    0.8411      1000\n",
      "           0     0.8073    0.5517    0.6554       600\n",
      "\n",
      "    accuracy                         0.7825      1600\n",
      "   macro avg     0.7906    0.7363    0.7483      1600\n",
      "weighted avg     0.7865    0.7825    0.7715      1600\n",
      "\n",
      "Random Undersampling + Adaboost\n",
      "              precision    recall  f1-score   support\n",
      "\n",
      "           1     0.8182    0.5670    0.6698      1000\n",
      "           0     0.5226    0.7900    0.6291       600\n",
      "\n",
      "    accuracy                         0.6506      1600\n",
      "   macro avg     0.6704    0.6785    0.6494      1600\n",
      "weighted avg     0.7073    0.6506    0.6545      1600\n",
      "\n",
      "Easy Ensemble\n",
      "              precision    recall  f1-score   support\n",
      "\n",
      "           1     0.8360    0.6780    0.7488      1000\n",
      "           0     0.5919    0.7783    0.6724       600\n",
      "\n",
      "    accuracy                         0.7156      1600\n",
      "   macro avg     0.7139    0.7282    0.7106      1600\n",
      "weighted avg     0.7445    0.7156    0.7201      1600\n",
      "\n"
     ]
    }
   ],
   "source": [
    "brfc = BalancedRandomForestClassifier(sampling_strategy='not minority',random_state=111)\n",
    "rusbc = RUSBoostClassifier(base_estimator=LogisticRegression(),sampling_strategy='not minority',random_state=111)\n",
    "eec = EasyEnsembleClassifier(n_estimators=30,base_estimator=LogisticRegression(),replacement=True,sampling_strategy='not minority',random_state=111)\n",
    "models = [(brfc,'Balanced Random Forest'),\n",
    "          (rusbc,'Random Undersampling + Adaboost'),\n",
    "          (eec,'Easy Ensemble')]\n",
    "\n",
    "for model, name in models:\n",
    "    model.fit(X_train, encoded_y)\n",
    "#     y_pred = model.predict(X_val)\n",
    "    y_test = model.predict(X_test)\n",
    "    print(name)\n",
    "    print(classification_report(y_true_test, y_test, labels=[1,0], digits=4))"
   ]
  },
  {
   "cell_type": "code",
   "execution_count": null,
   "metadata": {},
   "outputs": [],
   "source": []
  }
 ],
 "metadata": {
  "kernelspec": {
   "display_name": "Python 3",
   "language": "python",
   "name": "python3"
  },
  "language_info": {
   "codemirror_mode": {
    "name": "ipython",
    "version": 3
   },
   "file_extension": ".py",
   "mimetype": "text/x-python",
   "name": "python",
   "nbconvert_exporter": "python",
   "pygments_lexer": "ipython3",
   "version": "3.7.3"
  }
 },
 "nbformat": 4,
 "nbformat_minor": 2
}
